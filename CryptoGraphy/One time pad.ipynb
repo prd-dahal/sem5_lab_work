{
 "cells": [
  {
   "cell_type": "code",
   "execution_count": 22,
   "metadata": {},
   "outputs": [
    {
     "name": "stdout",
     "output_type": "stream",
     "text": [
      "Enter the text to be encrypted using one time pad::hello world\n",
      "The encrypted text is \n",
      "ljyym wxmpq\n",
      "The decrypted text is \n",
      "hello world\n"
     ]
    }
   ],
   "source": [
    "import sys\n",
    "import random\n",
    "#encrypt the given text, input the string and key and return the string\n",
    "def encrypt(x,key):\n",
    "    s=[]\n",
    "    for i in x:\n",
    "        if(ord(i)>64 and ord(i)<91):\n",
    "            temp=(((ord(i)-65)+key)%26)+65 \n",
    "            s.append(chr(temp)) \n",
    "        elif(ord(i)>96 and ord(i)<123):\n",
    "            temp=(((ord(i)-97)+key)%26)+97\n",
    "            s.append(chr(temp))\n",
    "        elif(ord(i)==32):\n",
    "            s.append(i)\n",
    "        else:\n",
    "            input(\"Invalid character program terminating. Enter any key to exit\")\n",
    "            sys.exit()\n",
    "    encrypted_text=(''.join(s))\n",
    "    return encrypted_text\n",
    "\n",
    "#decrypt the given text, input the string and key and return the string\n",
    "def decrypt(x,key):\n",
    "    s=[]\n",
    "    for i in x:\n",
    "        if(ord(i)>64 and ord(i)<91):\n",
    "            temp=(((ord(i)-65)-key)%26)+65 \n",
    "            s.append(chr(temp)) \n",
    "        elif(ord(i)>96 and ord(i)<123):\n",
    "            temp=(((ord(i)-97)-key)%26)+97\n",
    "            s.append(chr(temp))\n",
    "        elif(ord(i)==32):\n",
    "            s.append(i)\n",
    "        else:\n",
    "            print(\"Invalid character program terminating. Enter any key to exit\")\n",
    "            sys.exit()\n",
    "    encrypted_text=(''.join(s))\n",
    "    return encrypted_text\n",
    "\n",
    "\n",
    "inputText = input(\"Enter the text to be encrypted using one time pad::\")\n",
    "length = len(inputText)\n",
    "\n",
    "keypad = []\n",
    "for key in range(length):\n",
    "    keypad.append(random.randint(1,1000))\n",
    "\n",
    "\n",
    "\n",
    "#encrypt the text in the timepad using\n",
    "encryptedText = []\n",
    "for i in range(length):\n",
    "    encryptedText.append(encrypt(inputText[i], keypad[i]))\n",
    "encryptedText = (''.join(encryptedText))\n",
    "\n",
    "#print the encrypted text\n",
    "print('The encrypted text is \\n{}'.format(encryptedText))\n",
    "\n",
    "\n",
    "decryptedText = []\n",
    "for i in range(length):\n",
    "    decryptedText.append(decrypt(encryptedText[i],keypad[i]))\n",
    "decryptedText = ''.join(decryptedText)\n",
    "print('The decrypted text is \\n{}'.format(decryptedText))\n"
   ]
  }
 ],
 "metadata": {
  "kernelspec": {
   "display_name": "Python 3",
   "language": "python",
   "name": "python3"
  },
  "language_info": {
   "codemirror_mode": {
    "name": "ipython",
    "version": 3
   },
   "file_extension": ".py",
   "mimetype": "text/x-python",
   "name": "python",
   "nbconvert_exporter": "python",
   "pygments_lexer": "ipython3",
   "version": "3.7.3"
  }
 },
 "nbformat": 4,
 "nbformat_minor": 2
}
