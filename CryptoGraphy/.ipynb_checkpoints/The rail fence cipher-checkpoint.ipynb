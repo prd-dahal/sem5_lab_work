{
 "cells": [
  {
   "cell_type": "code",
   "execution_count": 34,
   "metadata": {
    "scrolled": true
   },
   "outputs": [
    {
     "name": "stdout",
     "output_type": "stream",
     "text": [
      "hloel*\n"
     ]
    }
   ],
   "source": [
    "#for depth 2\n",
    "def Encfence(x=\"hello\"):\n",
    "    l1=[]\n",
    "    l2=[]\n",
    "    for i in range(2):\n",
    "        if(len(x)%2==0):\n",
    "            pass\n",
    "        else:\n",
    "            x=x+'*'\n",
    "    for i in range(len(x)):\n",
    "        if(i%2==0):\n",
    "            l1.append(x[i])\n",
    "        else:l2.append(x[i])\n",
    "    return ''.join(l1)+''.join(l2)\n",
    "print(fence_cipher())\n",
    "def Decfence(x='hloel*'):\n",
    "    #here length of even length is expected because its even when encrypted\n",
    "    temp=int(len(x)/2)\n",
    "    text[]\n",
    "    l1=text[:temp1]\n",
    "    l2=text[temp1:]\n",
    "    for i in range(len(l1)):\n",
    "        if(x[i]=='*'):\n",
    "            pass\n",
    "        else:\n",
    "            text.append(l1)\n",
    "            text.append(l2)\n",
    "    return ''.join(text)\n"
   ]
  },
  {
   "cell_type": "code",
   "execution_count": 44,
   "metadata": {},
   "outputs": [
    {
     "name": "stdout",
     "output_type": "stream",
     "text": [
      "hel\n",
      "lo*\n"
     ]
    }
   ],
   "source": [
    "text='hello*'\n",
    "temp1=int(len(text)/2)\n",
    "l1=text[:temp1]\n",
    "l2=text[temp1:]\n",
    "print(l1)\n",
    "print(l2)"
   ]
  }
 ],
 "metadata": {
  "kernelspec": {
   "display_name": "Python 3",
   "language": "python",
   "name": "python3"
  },
  "language_info": {
   "codemirror_mode": {
    "name": "ipython",
    "version": 3
   },
   "file_extension": ".py",
   "mimetype": "text/x-python",
   "name": "python",
   "nbconvert_exporter": "python",
   "pygments_lexer": "ipython3",
   "version": "3.7.3"
  }
 },
 "nbformat": 4,
 "nbformat_minor": 2
}
