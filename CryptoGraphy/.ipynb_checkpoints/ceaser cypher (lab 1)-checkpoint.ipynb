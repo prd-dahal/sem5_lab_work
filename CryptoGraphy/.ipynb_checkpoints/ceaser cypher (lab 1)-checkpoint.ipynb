{
 "cells": [
  {
   "cell_type": "code",
   "execution_count": 1,
   "metadata": {},
   "outputs": [
    {
     "name": "stdout",
     "output_type": "stream",
     "text": [
      "Input the data:: Only A-Z and a-z::hello world\n",
      "The encrypted data is:\n",
      "khoor zruog\n",
      "The decrypted data is\n",
      "hello world\n"
     ]
    }
   ],
   "source": [
    "import sys\n",
    "def encrypt(x,key):\n",
    "    s=[]\n",
    "    for i in x:\n",
    "        if(ord(i)>64 and ord(i)<91):\n",
    "            temp=(((ord(i)-65)+key)%26)+65 \n",
    "            s.append(chr(temp)) \n",
    "        elif(ord(i)>96 and ord(i)<123):\n",
    "            temp=(((ord(i)-97)+key)%26)+97\n",
    "            s.append(chr(temp))\n",
    "        elif(ord(i)==32):\n",
    "            s.append(i)\n",
    "        else:\n",
    "            input(\"Invalid character program terminating. Enter any key to exit\")\n",
    "            sys.exit()\n",
    "            \n",
    "    encrypted_text=(''.join(s))\n",
    "    return encrypted_text\n",
    "\n",
    "\n",
    "def decrypt(x,key):\n",
    "    s=[]\n",
    "    for i in x:\n",
    "        if(ord(i)>64 and ord(i)<91):\n",
    "            temp=(((ord(i)-65)-key)%26)+65 \n",
    "            s.append(chr(temp)) \n",
    "        elif(ord(i)>96 and ord(i)<123):\n",
    "            temp=(((ord(i)-97)-key)%26)+97\n",
    "            s.append(chr(temp))\n",
    "        elif(ord(i)==32):\n",
    "            s.append(i)\n",
    "        else:\n",
    "            print(\"Invalid character program terminating. Enter any key to exit\")\n",
    "            sys.exit()\n",
    "    encrypted_text=(''.join(s))\n",
    "    return encrypted_text\n",
    "key=3\n",
    "data=input(\"Input the data:: Only A-Z and a-z::\")\n",
    "encData=encrypt(data,key)\n",
    "print(\"The encrypted data is:\")\n",
    "print(encData)\n",
    "decData=decrypt(encData,key)\n",
    "print(\"The decrypted data is\")\n",
    "print(decData)"
   ]
  },
  {
   "cell_type": "code",
   "execution_count": null,
   "metadata": {},
   "outputs": [],
   "source": []
  }
 ],
 "metadata": {
  "kernelspec": {
   "display_name": "Python 3",
   "language": "python",
   "name": "python3"
  },
  "language_info": {
   "codemirror_mode": {
    "name": "ipython",
    "version": 3
   },
   "file_extension": ".py",
   "mimetype": "text/x-python",
   "name": "python",
   "nbconvert_exporter": "python",
   "pygments_lexer": "ipython3",
   "version": "3.7.3"
  }
 },
 "nbformat": 4,
 "nbformat_minor": 2
}
