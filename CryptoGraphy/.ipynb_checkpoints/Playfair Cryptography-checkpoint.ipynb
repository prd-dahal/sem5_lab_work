{
 "cells": [
  {
   "cell_type": "code",
   "execution_count": 1,
   "metadata": {},
   "outputs": [
    {
     "name": "stdout",
     "output_type": "stream",
     "text": [
      "Enter keyword without repeating alphabethe\n",
      "Input a message without a spacehe\n",
      "[['H', 'E', 'A', 'B', 'C'], ['D', 'F', 'G', 'I', 'K'], ['L', 'M', 'N', 'O', 'P'], ['Q', 'R', 'S', 'T', 'U'], ['V', 'W', 'X', 'Y', 'Z']]\n"
     ]
    },
    {
     "ename": "NameError",
     "evalue": "name 'temp_matrix' is not defined",
     "output_type": "error",
     "traceback": [
      "\u001b[1;31m---------------------------------------------------------------------------\u001b[0m",
      "\u001b[1;31mNameError\u001b[0m                                 Traceback (most recent call last)",
      "\u001b[1;32m<ipython-input-1-094158a1ff9b>\u001b[0m in \u001b[0;36m<module>\u001b[1;34m\u001b[0m\n\u001b[0;32m     82\u001b[0m \u001b[0mmessage\u001b[0m\u001b[1;33m=\u001b[0m\u001b[0mmakeEven\u001b[0m\u001b[1;33m(\u001b[0m\u001b[0mmessage\u001b[0m\u001b[1;33m)\u001b[0m\u001b[1;33m\u001b[0m\u001b[1;33m\u001b[0m\u001b[0m\n\u001b[0;32m     83\u001b[0m \u001b[0mprint\u001b[0m\u001b[1;33m(\u001b[0m\u001b[0mmatrix\u001b[0m\u001b[1;33m)\u001b[0m\u001b[1;33m\u001b[0m\u001b[1;33m\u001b[0m\u001b[0m\n\u001b[1;32m---> 84\u001b[1;33m \u001b[0mprint\u001b[0m\u001b[1;33m(\u001b[0m\u001b[0mencrypt\u001b[0m\u001b[1;33m(\u001b[0m\u001b[0mmatrix\u001b[0m\u001b[1;33m,\u001b[0m\u001b[0mmessage\u001b[0m\u001b[1;33m)\u001b[0m\u001b[1;33m)\u001b[0m\u001b[1;33m\u001b[0m\u001b[1;33m\u001b[0m\u001b[0m\n\u001b[0m",
      "\u001b[1;32m<ipython-input-1-094158a1ff9b>\u001b[0m in \u001b[0;36mencrypt\u001b[1;34m(matrix, message)\u001b[0m\n\u001b[0;32m     54\u001b[0m     \u001b[0mchunks\u001b[0m\u001b[1;33m=\u001b[0m\u001b[1;33m(\u001b[0m\u001b[0mwrap\u001b[0m\u001b[1;33m(\u001b[0m\u001b[0mmessage\u001b[0m\u001b[1;33m,\u001b[0m\u001b[1;36m2\u001b[0m\u001b[1;33m)\u001b[0m\u001b[1;33m)\u001b[0m\u001b[1;33m\u001b[0m\u001b[1;33m\u001b[0m\u001b[0m\n\u001b[0;32m     55\u001b[0m     \u001b[0mnp_matrix\u001b[0m\u001b[1;33m=\u001b[0m\u001b[0mnp\u001b[0m\u001b[1;33m.\u001b[0m\u001b[0marray\u001b[0m\u001b[1;33m(\u001b[0m\u001b[0mmatrix\u001b[0m\u001b[1;33m)\u001b[0m\u001b[1;33m\u001b[0m\u001b[1;33m\u001b[0m\u001b[0m\n\u001b[1;32m---> 56\u001b[1;33m     \u001b[0mmatrixT\u001b[0m\u001b[1;33m=\u001b[0m\u001b[0mnp\u001b[0m\u001b[1;33m.\u001b[0m\u001b[0mtranspose\u001b[0m\u001b[1;33m(\u001b[0m\u001b[0mtemp_matrix\u001b[0m\u001b[1;33m)\u001b[0m\u001b[1;33m\u001b[0m\u001b[1;33m\u001b[0m\u001b[0m\n\u001b[0m\u001b[0;32m     57\u001b[0m     \u001b[0mprint\u001b[0m\u001b[1;33m(\u001b[0m\u001b[0mmatrixT\u001b[0m\u001b[1;33m)\u001b[0m\u001b[1;33m\u001b[0m\u001b[1;33m\u001b[0m\u001b[0m\n\u001b[0;32m     58\u001b[0m     \u001b[1;32mfor\u001b[0m \u001b[0mi\u001b[0m \u001b[1;32min\u001b[0m \u001b[0mchunks\u001b[0m\u001b[1;33m:\u001b[0m\u001b[1;33m\u001b[0m\u001b[1;33m\u001b[0m\u001b[0m\n",
      "\u001b[1;31mNameError\u001b[0m: name 'temp_matrix' is not defined"
     ]
    }
   ],
   "source": [
    "#import section\n",
    "import numpy as np\n",
    "import sys\n",
    "import textwrap\n",
    "#split\n",
    "def wrap(s, w):\n",
    "    return [s[i:i + w] for i in range(0, len(s), w)]\n",
    "\n",
    "#validate function if a keyword has a repeated data\n",
    "def validate(x='default'):\n",
    "    temp=[]\n",
    "    for i in range(len(x)):\n",
    "        if x[i] in temp:\n",
    "            return \"invalid\"   \n",
    "        else:\n",
    "            temp.append(x[i])\n",
    "    return \"valid\"\n",
    "#make a matrix of 5*5 depending upon a keyword\n",
    "def makeMatrix(keyword):\n",
    "    temp=list(keyword)\n",
    "    temp_matrix=[]\n",
    "    for i in range(len(temp)):\n",
    "        temp_matrix.append(temp[i])\n",
    "    for i in range(65,91):\n",
    "        if((chr(i) in temp_matrix)or i == 74):\n",
    "            pass\n",
    "        else:\n",
    "            temp_matrix.append(chr(i))\n",
    "    matrix=[[],[],[],[],[]]\n",
    "    for i in range(0,25):\n",
    "        if(i<5):\n",
    "            matrix[0].append(temp_matrix[i])\n",
    "        elif(i<10 and i>=5):\n",
    "            matrix[1].append(temp_matrix[i])\n",
    "        elif(i>=10 and i<15):\n",
    "            matrix[2].append(temp_matrix[i])\n",
    "        elif(i>=15 and i<20):\n",
    "            matrix[3].append(temp_matrix[i])\n",
    "        elif(i>=20):\n",
    "            matrix[4].append(temp_matrix[i])\n",
    "    return (matrix)\n",
    "def makeEven(message):\n",
    "    temp=list(message)\n",
    "    if(len(temp)%2!=0):\n",
    "        temp.append('Z')\n",
    "    else:\n",
    "        pass\n",
    "    return ''.join(temp)\n",
    "\n",
    "\n",
    "#encrypt the message\n",
    "def encrypt(matrix, message):    \n",
    "    dmessage=[]\n",
    "    chunks=(wrap(message,2))\n",
    "    np_matrix=np.array(matrix)\n",
    "    matrixT=np.transpose(np_matrix)\n",
    "    print(matrixT)\n",
    "    for i in chunks:\n",
    "        for t in range(5):\n",
    "            if((i[0] in matrix[t] and i[1] in matrix[t])):\n",
    "                for j in i:\n",
    "                    index=matrix[t].index(j)\n",
    "                    dmessage.append(matrix[t][(index+1)%5])\n",
    "            elif((i[0] in matrixT[t] and i[1] in matrixT[t])):\n",
    "                for j in i:\n",
    "                    index=int(np.where(matrixT==j)[1])\n",
    "                    dmessage.append(matrixT[t][(index+1)%5])\n",
    "            else:\n",
    "                print(np.where(np_matrix==i[0]))\n",
    "                \n",
    "    return ''.join(dmessage) \n",
    "            \n",
    "#main function\n",
    "keyword=input(\"Enter keyword without repeating alphabet\")\n",
    "keyword=keyword.upper()\n",
    "valid=(validate(keyword))\n",
    "if(validate=='invalid'):\n",
    "    input(\"Invalid Kewword. Enter a key to exit\")\n",
    "    exit()\n",
    "matrix=makeMatrix(keyword)\n",
    "message=input(\"Input a message without a space\").upper()\n",
    "message=makeEven(message)\n",
    "print(matrix)\n",
    "print(encrypt(matrix,message))\n"
   ]
  },
  {
   "cell_type": "code",
   "execution_count": 27,
   "metadata": {},
   "outputs": [
    {
     "name": "stdout",
     "output_type": "stream",
     "text": [
      "74\n"
     ]
    }
   ],
   "source": [
    "print(ord(\"J\"))"
   ]
  },
  {
   "cell_type": "code",
   "execution_count": null,
   "metadata": {},
   "outputs": [],
   "source": []
  }
 ],
 "metadata": {
  "kernelspec": {
   "display_name": "Python 3",
   "language": "python",
   "name": "python3"
  },
  "language_info": {
   "codemirror_mode": {
    "name": "ipython",
    "version": 3
   },
   "file_extension": ".py",
   "mimetype": "text/x-python",
   "name": "python",
   "nbconvert_exporter": "python",
   "pygments_lexer": "ipython3",
   "version": "3.7.3"
  }
 },
 "nbformat": 4,
 "nbformat_minor": 2
}
