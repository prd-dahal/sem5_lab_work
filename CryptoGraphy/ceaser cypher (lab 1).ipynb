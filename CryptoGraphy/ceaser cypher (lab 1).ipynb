{
 "cells": [
  {
   "cell_type": "code",
   "execution_count": 3,
   "metadata": {},
   "outputs": [
    {
     "name": "stdout",
     "output_type": "stream",
     "text": [
      "Enter the key4\n",
      "Input the data:: Only A-Z and a-z::hello world\n",
      "The encrypted data is:\n",
      "lipps asvph\n",
      "The decrypted data is\n",
      "hello world\n"
     ]
    }
   ],
   "source": [
    "import sys\n",
    "def encrypt(x,key):\n",
    "    s=[]\n",
    "    for i in x:\n",
    "        if(ord(i)>64 and ord(i)<91):\n",
    "            temp=(((ord(i)-65)+key)%26)+65 \n",
    "            s.append(chr(temp)) \n",
    "        elif(ord(i)>96 and ord(i)<123):\n",
    "            temp=(((ord(i)-97)+key)%26)+97\n",
    "            s.append(chr(temp))\n",
    "        elif(ord(i)==32):\n",
    "            s.append(i)\n",
    "        else:\n",
    "            input(\"Invalid character program terminating. Enter any key to exit\")\n",
    "            sys.exit()\n",
    "            \n",
    "    encrypted_text=(''.join(s))\n",
    "    return encrypted_text\n",
    "\n",
    "\n",
    "def decrypt(x,key):\n",
    "    s=[]\n",
    "    for i in x:\n",
    "        if(ord(i)>64 and ord(i)<91):\n",
    "            temp=(((ord(i)-65)-key)%26)+65 \n",
    "            s.append(chr(temp)) \n",
    "        elif(ord(i)>96 and ord(i)<123):\n",
    "            temp=(((ord(i)-97)-key)%26)+97\n",
    "            s.append(chr(temp))\n",
    "        elif(ord(i)==32):\n",
    "            s.append(i)\n",
    "        else:\n",
    "            print(\"Invalid character program terminating. Enter any key to exit\")\n",
    "            sys.exit()\n",
    "    encrypted_text=(''.join(s))\n",
    "    return encrypted_text\n",
    "key=int(input(\"Enter the key\"))\n",
    "data=input(\"Input the data:: Only A-Z and a-z::\")\n",
    "encData=encrypt(data,key)\n",
    "print(\"The encrypted data is:\")\n",
    "print(encData)\n",
    "decData=decrypt(encData,key)\n",
    "print(\"The decrypted data is\")\n",
    "print(decData)"
   ]
  },
  {
   "cell_type": "code",
   "execution_count": null,
   "metadata": {},
   "outputs": [],
   "source": []
  }
 ],
 "metadata": {
  "kernelspec": {
   "display_name": "Python 3",
   "language": "python",
   "name": "python3"
  }
 },
 "nbformat": 4,
 "nbformat_minor": 2
}
