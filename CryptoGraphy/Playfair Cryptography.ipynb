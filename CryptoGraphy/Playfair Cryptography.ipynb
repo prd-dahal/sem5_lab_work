{
 "cells": [
  {
   "cell_type": "code",
   "execution_count": 21,
   "metadata": {},
   "outputs": [
    {
     "name": "stdout",
     "output_type": "stream",
     "text": [
      "Enter keyword without repeating alphabetcrade\n",
      "Input a message without a spacecrade\n",
      "[['C', 'R', 'A', 'D', 'E'], ['B', 'F', 'G', 'H', 'I'], ['K', 'L', 'M', 'N', 'O'], ['P', 'Q', 'S', 'T', 'U'], ['V', 'W', 'X', 'Y', 'Z']]\n",
      "[['C' 'B' 'K' 'P' 'V']\n",
      " ['R' 'F' 'L' 'Q' 'W']\n",
      " ['A' 'G' 'M' 'S' 'X']\n",
      " ['D' 'H' 'N' 'T' 'Y']\n",
      " ['E' 'I' 'O' 'U' 'Z']]\n",
      "RADEIE\n"
     ]
    }
   ],
   "source": [
    "#import section\n",
    "import numpy as np\n",
    "import sys\n",
    "import textwrap\n",
    "#split\n",
    "def wrap(s, w):\n",
    "    return [s[i:i + w] for i in range(0, len(s), w)]\n",
    "\n",
    "#validate function if a keyword has a repeated data\n",
    "def validate(x='default'):\n",
    "    temp=[]\n",
    "    for i in range(len(x)):\n",
    "        if x[i] in temp:\n",
    "            return \"invalid\"   \n",
    "        else:\n",
    "            temp.append(x[i])\n",
    "    return \"valid\"\n",
    "#make a matrix of 5*5 depending upon a keyword\n",
    "def makeMatrix(keyword):\n",
    "    temp=list(keyword)\n",
    "    temp_matrix=[]\n",
    "    for i in range(len(temp)):\n",
    "        temp_matrix.append(temp[i])\n",
    "    for i in range(65,91):\n",
    "        if((chr(i) in temp_matrix)or i == 74):\n",
    "            pass\n",
    "        else:\n",
    "            temp_matrix.append(chr(i))\n",
    "    matrix=[[],[],[],[],[]]\n",
    "    for i in range(0,25):\n",
    "        if(i<5):\n",
    "            matrix[0].append(temp_matrix[i])\n",
    "        elif(i<10 and i>=5):\n",
    "            matrix[1].append(temp_matrix[i])\n",
    "        elif(i>=10 and i<15):\n",
    "            matrix[2].append(temp_matrix[i])\n",
    "        elif(i>=15 and i<20):\n",
    "            matrix[3].append(temp_matrix[i])\n",
    "        elif(i>=20):\n",
    "            matrix[4].append(temp_matrix[i])\n",
    "    return (matrix)\n",
    "def makeEven(message):\n",
    "    temp=list(message)\n",
    "    if(len(temp)%2!=0):\n",
    "        temp.append('Z')\n",
    "    else:\n",
    "        pass\n",
    "    return ''.join(temp)\n",
    "\n",
    "\n",
    "#encrypt the message\n",
    "def encrypt(matrix, message):    \n",
    "    dmessage=[]\n",
    "    chunks=(wrap(message,2))\n",
    "    temp_matrix=np.array(matrix)\n",
    "    matrixT=np.transpose(temp_matrix)\n",
    "    print(matrixT)\n",
    "    for i in chunks:\n",
    "        for t in range(5):\n",
    "            if((i[0] in matrix[t] and i[1] in matrix[t])):\n",
    "                for j in i:\n",
    "                    index=matrix[t].index(j)\n",
    "                    dmessage.append(matrix[t][(index+1)%5])\n",
    "            elif((i[0] in matrixT[t] and i[1] in matrixT[t])):\n",
    "                for j in i:\n",
    "                    index=int(np.where(matrixT==j)[1])\n",
    "                    dmessage.append(matrixT[t][(index+1)%5])\n",
    "                    \n",
    "    return ''.join(dmessage) \n",
    "            \n",
    "#main function\n",
    "keyword=input(\"Enter keyword without repeating alphabet\")\n",
    "keyword=keyword.upper()\n",
    "valid=(validate(keyword))\n",
    "if(validate=='invalid'):\n",
    "    input(\"Invalid Kewword. Enter a key to exit\")\n",
    "    exit()\n",
    "matrix=makeMatrix(keyword)\n",
    "message=input(\"Input a message without a space\").upper()\n",
    "message=makeEven(message)\n",
    "print(matrix)\n",
    "print(encrypt(matrix,message))\n"
   ]
  },
  {
   "cell_type": "code",
   "execution_count": 27,
   "metadata": {},
   "outputs": [
    {
     "name": "stdout",
     "output_type": "stream",
     "text": [
      "74\n"
     ]
    }
   ],
   "source": [
    "print(ord(\"J\"))"
   ]
  },
  {
   "cell_type": "code",
   "execution_count": null,
   "metadata": {},
   "outputs": [],
   "source": []
  }
 ],
 "metadata": {
  "kernelspec": {
   "display_name": "Python 3",
   "language": "python",
   "name": "python3"
  },
  "language_info": {
   "codemirror_mode": {
    "name": "ipython",
    "version": 3
   },
   "file_extension": ".py",
   "mimetype": "text/x-python",
   "name": "python",
   "nbconvert_exporter": "python",
   "pygments_lexer": "ipython3",
   "version": "3.7.3"
  }
 },
 "nbformat": 4,
 "nbformat_minor": 2
}
