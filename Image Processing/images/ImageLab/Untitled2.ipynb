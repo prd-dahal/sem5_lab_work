{
 "cells": [
  {
   "cell_type": "code",
   "execution_count": 1,
   "metadata": {},
   "outputs": [
    {
     "ename": "SyntaxError",
     "evalue": "EOL while scanning string literal (<ipython-input-1-483b623672d0>, line 14)",
     "output_type": "error",
     "traceback": [
      "\u001b[1;36m  File \u001b[1;32m\"<ipython-input-1-483b623672d0>\"\u001b[1;36m, line \u001b[1;32m14\u001b[0m\n\u001b[1;33m    cv2.imshow('input_image,img_1)\u001b[0m\n\u001b[1;37m                                  ^\u001b[0m\n\u001b[1;31mSyntaxError\u001b[0m\u001b[1;31m:\u001b[0m EOL while scanning string literal\n"
     ]
    }
   ],
   "source": [
    "import cv2\n",
    "import numpy as np\n",
    "img_1 = cv2.imread('fractured_spine.tif',0)\n",
    "\n",
    "gamma = 2\n",
    "img_2 = np.power(img_1,gamma)\n",
    "\n",
    "gamma = 3\n",
    "img_3 = np.power(img_1,gamma)\n",
    "\n",
    "gamma = 4\n",
    "img_4 = np.power(img_1,gamma)\n",
    "\n",
    "cv2.imshow('input_image',img_1)\n",
    "cv2.imshow('gamma 2',img_2)\n",
    "cv2.imshow('gamma 3',img_3)\n",
    "cv2.imshow('gamma 4,img_4)\n",
    "cv2.waitkey(1000000)\n",
    "cv2.destroyAllWindows()"
   ]
  }
 ],
 "metadata": {
  "kernelspec": {
   "display_name": "Python 3",
   "language": "python",
   "name": "python3"
  },
  "language_info": {
   "codemirror_mode": {
    "name": "ipython",
    "version": 3
   },
   "file_extension": ".py",
   "mimetype": "text/x-python",
   "name": "python",
   "nbconvert_exporter": "python",
   "pygments_lexer": "ipython3",
   "version": "3.6.6"
  }
 },
 "nbformat": 4,
 "nbformat_minor": 2
}
