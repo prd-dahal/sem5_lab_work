{
 "cells": [
  {
   "cell_type": "code",
   "execution_count": 11,
   "metadata": {},
   "outputs": [
    {
     "name": "stdout",
     "output_type": "stream",
     "text": [
      "The data in the linked list are:- They follow fifo principal\n",
      "4\n",
      "3\n",
      "2\n",
      "2 is deleted\n",
      "The data in the linked list are:- They follow fifo principal\n",
      "4\n",
      "3\n"
     ]
    }
   ],
   "source": [
    "#linked list implementation\n",
    "class Node(object):\n",
    "    def __init__(self,data=None,nextNode=None):\n",
    "        self.data=data\n",
    "        self.nextNode=nextNode\n",
    "    def getData(self):\n",
    "        return self.data\n",
    "    def setNext(self,newNode):\n",
    "        self.nextNode=newNode\n",
    "    def getNext(self):\n",
    "        return self.nextNode\n",
    "    \n",
    "class LinkedList(object):\n",
    "    def __init__(self,head=None):\n",
    "        self.head=head\n",
    "    def insert(self,data):\n",
    "        newNode=Node(data)\n",
    "        newNode.setNext(self.head)\n",
    "        self.head=newNode\n",
    "    def transverse(self):\n",
    "        temp=self.head\n",
    "        print(\"The data in the linked list are:- They follow fifo principal\")\n",
    "        while(temp.getNext()!=None):\n",
    "            print(temp.data)\n",
    "            temp=temp.nextNode\n",
    "        print(temp.data)\n",
    "    def delete(self,position=None):\n",
    "        #delete the first element\n",
    "        if(position==None or position=='first'):\n",
    "            temp=self.head\n",
    "            self.head=temp.getNext()\n",
    "            print(\"{} is deleted\".format(temp.data))\n",
    "        #delete the last element\n",
    "        elif(position=='last'):\n",
    "            temp=self.head\n",
    "            while(temp.getNext().getNext()!=None):\n",
    "                temp=temp.getNext()\n",
    "            temp2=temp.getNext()\n",
    "            temp.setNext(None)\n",
    "            print('{} is deleted'.format(temp2.data))\n",
    "            \n",
    "    \n",
    "l=LinkedList(Node(2))\n",
    "l.insert(3)\n",
    "l.insert(4)\n",
    "l.transverse()\n",
    "l.delete('last')\n",
    "l.transverse()\n"
   ]
  },
  {
   "cell_type": "code",
   "execution_count": 18,
   "metadata": {},
   "outputs": [
    {
     "name": "stdout",
     "output_type": "stream",
     "text": [
      "4\n",
      "3\n",
      "2\n",
      "1\n"
     ]
    }
   ],
   "source": [
    "#recursion implementation revision\n",
    "def func(x):\n",
    "    if(x==0):\n",
    "        pass\n",
    "    else:\n",
    "        print(x)\n",
    "        return func(x-1)\n",
    "func(4)\n",
    "    "
   ]
  }
 ],
 "metadata": {
  "kernelspec": {
   "display_name": "Python 3",
   "language": "python",
   "name": "python3"
  },
  "language_info": {
   "codemirror_mode": {
    "name": "ipython",
    "version": 3
   },
   "file_extension": ".py",
   "mimetype": "text/x-python",
   "name": "python",
   "nbconvert_exporter": "python",
   "pygments_lexer": "ipython3",
   "version": "3.7.3"
  }
 },
 "nbformat": 4,
 "nbformat_minor": 2
}
