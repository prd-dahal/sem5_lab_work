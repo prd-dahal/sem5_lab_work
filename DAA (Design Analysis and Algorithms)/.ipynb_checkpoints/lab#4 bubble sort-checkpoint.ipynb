{
 "cells": [
  {
   "cell_type": "code",
   "execution_count": 1,
   "metadata": {},
   "outputs": [
    {
     "name": "stdout",
     "output_type": "stream",
     "text": [
      "Enter the no of elements to be sorted:5\n",
      "Enter the element::12\n",
      "Enter the element::32\n",
      "Enter the element::23\n",
      "Enter the element::12\n",
      "Enter the element::34\n",
      "[12, 32, 23, 12, 34]\n",
      "At the iteration 1 [12, 23, 12, 32, 34]\n"
     ]
    }
   ],
   "source": [
    "#buble sort\n",
    "\n",
    "def bubble_sort(x):\n",
    "    flag=1\n",
    "    j=1\n",
    "    while(flag == 1):\n",
    "        r = len(x)-1\n",
    "        for i in range(r):\n",
    "            flag = 0\n",
    "            if(x[i]>x[i+1]):\n",
    "                temp = x[i]\n",
    "                x[i] = x[i+1]\n",
    "                x[i+1] = temp\n",
    "                flag = 1\n",
    "        print(\"At the iteration {} {}\".format(j,x))\n",
    "        j=j+1\n",
    "\n",
    "length = int(input(\"Enter the no of elements to be sorted:\"))\n",
    "x=[]\n",
    "for i in range(length):\n",
    "    x.append(int(input(\"Enter the element::\")))\n",
    "print(x)\n",
    "bubble_sort(x)"
   ]
  },
  {
   "cell_type": "code",
   "execution_count": 3,
   "metadata": {},
   "outputs": [
    {
     "data": {
      "text/plain": [
       "int"
      ]
     },
     "execution_count": 3,
     "metadata": {},
     "output_type": "execute_result"
    }
   ],
   "source": []
  },
  {
   "cell_type": "code",
   "execution_count": null,
   "metadata": {},
   "outputs": [],
   "source": []
  }
 ],
 "metadata": {
  "kernelspec": {
   "display_name": "Python 3",
   "language": "python",
   "name": "python3"
  },
  "language_info": {
   "codemirror_mode": {
    "name": "ipython",
    "version": 3
   },
   "file_extension": ".py",
   "mimetype": "text/x-python",
   "name": "python",
   "nbconvert_exporter": "python",
   "pygments_lexer": "ipython3",
   "version": "3.7.3"
  }
 },
 "nbformat": 4,
 "nbformat_minor": 2
}
