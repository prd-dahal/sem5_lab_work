{
 "cells": [
  {
   "cell_type": "code",
   "execution_count": 1,
   "metadata": {},
   "outputs": [
    {
     "name": "stdout",
     "output_type": "stream",
     "text": [
      "The intermediate performance of insertion sort 1\n",
      "[41, 53, 11, 50, 12]\n",
      "The intermediate performance of insertion sort 2\n",
      "[11, 41, 53, 50, 12]\n",
      "The intermediate performance of insertion sort 3\n",
      "[11, 41, 50, 53, 12]\n",
      "The intermediate performance of insertion sort 4\n",
      "[11, 12, 41, 50, 53]\n",
      "Sorted array\n",
      "[11, 12, 41, 50, 53]\n"
     ]
    }
   ],
   "source": [
    "#for concept follow this link :: https://www.youtube.com/watch?v=i-SKeOcBwko\n",
    "\n",
    "#here the arugments x is array of no\n",
    "def insertion_sort(x):\n",
    "    for i in range(1,len(x)):\n",
    "        value=x[i]\n",
    "        hole=i\n",
    "        while(hole>0 and x[hole-1]>value):\n",
    "            x[hole]=x[hole-1]\n",
    "            hole=hole-1\n",
    "        x[hole]=value\n",
    "        print(\"The intermediate performance of insertion sort {}\".format(i))\n",
    "        print(x)\n",
    "    return x,i\n",
    "y,no_of_iteration=insertion_sort([41,53,11,50,12])\n",
    "print(\"Sorted array\")\n",
    "print(y)\n"
   ]
  }
 ],
 "metadata": {
  "kernelspec": {
   "display_name": "Python 3",
   "language": "python",
   "name": "python3"
  },
  "language_info": {
   "codemirror_mode": {
    "name": "ipython",
    "version": 3
   },
   "file_extension": ".py",
   "mimetype": "text/x-python",
   "name": "python",
   "nbconvert_exporter": "python",
   "pygments_lexer": "ipython3",
   "version": "3.7.3"
  }
 },
 "nbformat": 4,
 "nbformat_minor": 2
}
