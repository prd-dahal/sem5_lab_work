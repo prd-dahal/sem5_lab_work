{
 "cells": [
  {
   "cell_type": "code",
   "execution_count": null,
   "metadata": {},
   "outputs": [],
   "source": [
    "#lab 1 WAP to find the GCD\n",
    "no1 = int(input(\"Enter the first number::\"))\n",
    "no2 = int(input(\"Enter the second number::\"))\n",
    "gcd = 0\n",
    "for i in range(1,min(no1,no2)):\n",
    "    if(no1%i == 0 and no2%i == 0):\n",
    "         gcd = i\n",
    "    else:\n",
    "        pass\n",
    "print('GCD of {} and {} is {}'.format(no1,no2,gcd))"
   ]
  },
  {
   "cell_type": "code",
   "execution_count": null,
   "metadata": {},
   "outputs": [],
   "source": []
  }
 ],
 "metadata": {
  "kernelspec": {
   "display_name": "Python 3",
   "language": "python",
   "name": "python3"
  },
  "language_info": {
   "codemirror_mode": {
    "name": "ipython",
    "version": 3
   },
   "file_extension": ".py",
   "mimetype": "text/x-python",
   "name": "python",
   "nbconvert_exporter": "python",
   "pygments_lexer": "ipython3",
   "version": "3.7.3"
  }
 },
 "nbformat": 4,
 "nbformat_minor": 2
}
