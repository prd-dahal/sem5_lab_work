{
 "cells": [
  {
   "cell_type": "code",
   "execution_count": null,
   "metadata": {},
   "outputs": [],
   "source": [
    "A=[2,3,21,12,43,457818]\n",
    "def swap(x,y):\n",
    "    temp=x\n",
    "    x=y\n",
    "    y=temp\n",
    "def partition(A,l,h):\n",
    "    pivot=A[l]\n",
    "    i=l\n",
    "    j=h\n",
    "    while(i<j):\n",
    "        i=i+1\n",
    "        while(A[i]<=pivot):\n",
    "            i=i+1\n",
    "        j=j-1\n",
    "        while(A[i]>=pivot):\n",
    "            j=j-1\n",
    "        if(i<j):\n",
    "            swap(A[i],A[j])\n",
    "    return j\n",
    "x=partition(A,0,5)\n"
   ]
  }
 ],
 "metadata": {
  "kernelspec": {
   "display_name": "Python 3",
   "language": "python",
   "name": "python3"
  },
  "language_info": {
   "codemirror_mode": {
    "name": "ipython",
    "version": 3
   },
   "file_extension": ".py",
   "mimetype": "text/x-python",
   "name": "python",
   "nbconvert_exporter": "python",
   "pygments_lexer": "ipython3",
   "version": "3.7.3"
  }
 },
 "nbformat": 4,
 "nbformat_minor": 2
}
