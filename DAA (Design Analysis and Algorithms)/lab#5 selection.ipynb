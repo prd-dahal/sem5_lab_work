{
 "cells": [
  {
   "cell_type": "code",
   "execution_count": 31,
   "metadata": {},
   "outputs": [
    {
     "name": "stdout",
     "output_type": "stream",
     "text": [
      "Enter the no of elements to be sorted:5\n",
      "Enter the element::12\n",
      "Enter the element::43\n",
      "Enter the element::2\n",
      "Enter the element::43\n",
      "Enter the element::65\n",
      "[12, 43, 2, 43, 65]\n",
      "At the iteration 0 the array is [2, 43, 12, 43, 65]\n",
      "At the iteration 1 the array is [2, 12, 43, 43, 65]\n",
      "At the iteration 2 the array is [2, 12, 43, 43, 65]\n",
      "At the iteration 3 the array is [2, 12, 43, 43, 65]\n",
      "At the iteration 4 the array is [2, 12, 43, 43, 65]\n"
     ]
    }
   ],
   "source": [
    "\n",
    "#find the minimum from the \n",
    "def find_min(x):\n",
    "    minValue = x[0]\n",
    "    for i in range(1,len(x)):\n",
    "        if(x[i]<minValue):\n",
    "            minValue = x[i]\n",
    "    return minValue\n",
    "\n",
    "def swap(x, pos1, pos2):\n",
    "    temp = x[pos1]\n",
    "    x[pos1] = x[pos2]\n",
    "    x[pos2] = temp\n",
    "    return x\n",
    "def selection_sort(x):\n",
    "        for i in range(len(x)):\n",
    "            minvalue = find_min(x[i:])\n",
    "            index = x.index(minvalue)\n",
    "            x = swap(x, i, index)\n",
    "            print('At the iteration {} the array is {}'.format(i, x))\n",
    "        \n",
    "\n",
    "length = int(input(\"Enter the no of elements to be sorted:\"))\n",
    "x = []\n",
    "for i in range(length):\n",
    "    x.append(int(input(\"Enter the element::\")))\n",
    "print(x)\n",
    "selection_sort(x)\n",
    "\n",
    "    "
   ]
  }
 ],
 "metadata": {
  "kernelspec": {
   "display_name": "Python 3",
   "language": "python",
   "name": "python3"
  },
  "language_info": {
   "codemirror_mode": {
    "name": "ipython",
    "version": 3
   },
   "file_extension": ".py",
   "mimetype": "text/x-python",
   "name": "python",
   "nbconvert_exporter": "python",
   "pygments_lexer": "ipython3",
   "version": "3.7.3"
  }
 },
 "nbformat": 4,
 "nbformat_minor": 2
}
