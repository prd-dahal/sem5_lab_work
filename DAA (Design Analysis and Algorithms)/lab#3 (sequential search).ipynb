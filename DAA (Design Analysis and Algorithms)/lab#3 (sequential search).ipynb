{
 "cells": [
  {
   "cell_type": "code",
   "execution_count": 1,
   "metadata": {},
   "outputs": [
    {
     "name": "stdout",
     "output_type": "stream",
     "text": [
      "Enter the number to search in the domain: 62\n",
      "62 is in the 5 position of domain\n"
     ]
    }
   ],
   "source": [
    "domain = [34, 35, 23, 43, 45, 62, 56]\n",
    "a = int(input(\"Enter the number to search in the domain: \"))\n",
    "j = 0\n",
    "for i in domain:\n",
    "    if i == a:\n",
    "        print('{} is in the {} position of domain'.format(i,j))\n",
    "    else:\n",
    "        j = j+1\n",
    "    "
   ]
  },
  {
   "cell_type": "code",
   "execution_count": null,
   "metadata": {},
   "outputs": [],
   "source": []
  }
 ],
 "metadata": {
  "kernelspec": {
   "display_name": "Python 3",
   "language": "python",
   "name": "python3"
  },
  "language_info": {
   "codemirror_mode": {
    "name": "ipython",
    "version": 3
   },
   "file_extension": ".py",
   "mimetype": "text/x-python",
   "name": "python",
   "nbconvert_exporter": "python",
   "pygments_lexer": "ipython3",
   "version": "3.7.3"
  }
 },
 "nbformat": 4,
 "nbformat_minor": 2
}
